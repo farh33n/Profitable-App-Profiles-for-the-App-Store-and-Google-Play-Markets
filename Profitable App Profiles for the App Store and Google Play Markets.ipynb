{
 "cells": [
  {
   "cell_type": "markdown",
   "metadata": {},
   "source": [
    "# Profitable App Profiles for the App Store and Google Play Markets"
   ]
  },
  {
   "cell_type": "markdown",
   "metadata": {},
   "source": [
    "### The goal of this project is to analyze data to find the type of apps that are likely to attract more users. This project was submitted as a guided project for Python for Data Science: fundamentals course at Dataquest.io.\n",
    "<br> Data sets:[Mobile App Statistics (Apple iOS app store)](https://www.kaggle.com/ramamet4/app-store-apple-data-set-10k-apps/home), [Google Play Store Apps](https://www.kaggle.com/lava18/google-play-store-apps/home)"
   ]
  },
  {
   "cell_type": "code",
   "execution_count": 1,
   "metadata": {
    "collapsed": false
   },
   "outputs": [],
   "source": [
    "from csv import reader\n",
    "import re"
   ]
  },
  {
   "cell_type": "markdown",
   "metadata": {},
   "source": [
    "## Reading Data sets"
   ]
  },
  {
   "cell_type": "code",
   "execution_count": 2,
   "metadata": {
    "collapsed": false
   },
   "outputs": [],
   "source": [
    "apple_data = list(reader(open('AppleStore.csv')))\n",
    "google_data = list(reader(open('googleplaystore.csv')))"
   ]
  },
  {
   "cell_type": "markdown",
   "metadata": {},
   "source": [
    "### This function is to print the provided data set"
   ]
  },
  {
   "cell_type": "code",
   "execution_count": 3,
   "metadata": {
    "collapsed": true
   },
   "outputs": [],
   "source": [
    "def explore_data(dataset, start, end, rows_and_columns=False):\n",
    "    dataset_slice = dataset[start:end]    \n",
    "    for row in dataset_slice:\n",
    "        print(row)\n",
    "        print('\\n') # adds a new (empty) line after each row\n",
    "\n",
    "    if rows_and_columns:\n",
    "        print('Number of rows:', len(dataset))\n",
    "        print('Number of columns:', len(dataset[0]))"
   ]
  },
  {
   "cell_type": "code",
   "execution_count": 4,
   "metadata": {
    "collapsed": false
   },
   "outputs": [
    {
     "name": "stdout",
     "output_type": "stream",
     "text": [
      "['U Launcher Lite – FREE Live Cool Themes, Hide Apps', 'ART_AND_DESIGN', '4.7', '87510', '8.7M', '5,000,000+', 'Free', '0', 'Everyone', 'Art & Design', 'August 1, 2018', '1.2.4', '4.0.3 and up']\n",
      "\n",
      "\n",
      "['Sketch - Draw & Paint', 'ART_AND_DESIGN', '4.5', '215644', '25M', '50,000,000+', 'Free', '0', 'Teen', 'Art & Design', 'June 8, 2018', 'Varies with device', '4.2 and up']\n",
      "\n",
      "\n",
      "['Pixel Draw - Number Art Coloring Book', 'ART_AND_DESIGN', '4.3', '967', '2.8M', '100,000+', 'Free', '0', 'Everyone', 'Art & Design;Creativity', 'June 20, 2018', '1.1', '4.4 and up']\n",
      "\n",
      "\n",
      "['Paper flowers instructions', 'ART_AND_DESIGN', '4.4', '167', '5.6M', '50,000+', 'Free', '0', 'Everyone', 'Art & Design', 'March 26, 2017', '1.0', '2.3 and up']\n",
      "\n",
      "\n",
      "Number of rows: 10842\n",
      "Number of columns: 13\n"
     ]
    }
   ],
   "source": [
    "explore_data(google_data, 3,7,True)"
   ]
  },
  {
   "cell_type": "markdown",
   "metadata": {},
   "source": [
    "### Number of rows in both data sets\n",
    "<br> remember that first row contains the name of columns"
   ]
  },
  {
   "cell_type": "code",
   "execution_count": 5,
   "metadata": {
    "collapsed": false
   },
   "outputs": [
    {
     "name": "stdout",
     "output_type": "stream",
     "text": [
      "No of rows in android apps data set :  10841\n",
      "No of rows in IOS apps data set :  7197\n"
     ]
    }
   ],
   "source": [
    "print(\"No of rows in android apps data set : \", len(google_data) - 1)\n",
    "print(\"No of rows in IOS apps data set : \", len(apple_data) - 1)"
   ]
  },
  {
   "cell_type": "markdown",
   "metadata": {},
   "source": [
    "### Columns in android apps data set"
   ]
  },
  {
   "cell_type": "code",
   "execution_count": 6,
   "metadata": {
    "collapsed": false
   },
   "outputs": [
    {
     "data": {
      "text/plain": [
       "['App',\n",
       " 'Category',\n",
       " 'Rating',\n",
       " 'Reviews',\n",
       " 'Size',\n",
       " 'Installs',\n",
       " 'Type',\n",
       " 'Price',\n",
       " 'Content Rating',\n",
       " 'Genres',\n",
       " 'Last Updated',\n",
       " 'Current Ver',\n",
       " 'Android Ver']"
      ]
     },
     "execution_count": 6,
     "metadata": {},
     "output_type": "execute_result"
    }
   ],
   "source": [
    "google_data[0]"
   ]
  },
  {
   "cell_type": "markdown",
   "metadata": {},
   "source": [
    "### Columns in IOS apps data set\n"
   ]
  },
  {
   "cell_type": "code",
   "execution_count": 7,
   "metadata": {
    "collapsed": false
   },
   "outputs": [
    {
     "data": {
      "text/plain": [
       "['id',\n",
       " 'track_name',\n",
       " 'size_bytes',\n",
       " 'currency',\n",
       " 'price',\n",
       " 'rating_count_tot',\n",
       " 'rating_count_ver',\n",
       " 'user_rating',\n",
       " 'user_rating_ver',\n",
       " 'ver',\n",
       " 'cont_rating',\n",
       " 'prime_genre',\n",
       " 'sup_devices.num',\n",
       " 'ipadSc_urls.num',\n",
       " 'lang.num',\n",
       " 'vpp_lic']"
      ]
     },
     "execution_count": 7,
     "metadata": {},
     "output_type": "execute_result"
    }
   ],
   "source": [
    "apple_data[0]"
   ]
  },
  {
   "cell_type": "markdown",
   "metadata": {},
   "source": [
    "## Data Cleaning"
   ]
  },
  {
   "cell_type": "markdown",
   "metadata": {},
   "source": [
    "### Due to [error](https://www.kaggle.com/lava18/google-play-store-apps/discussion/66015) reported in android apps data set we remove that row after confirming that the error exists"
   ]
  },
  {
   "cell_type": "code",
   "execution_count": 8,
   "metadata": {
    "collapsed": false
   },
   "outputs": [
    {
     "data": {
      "text/plain": [
       "False"
      ]
     },
     "execution_count": 8,
     "metadata": {},
     "output_type": "execute_result"
    }
   ],
   "source": [
    "len(google_data[10473]) == len(google_data[0])"
   ]
  },
  {
   "cell_type": "code",
   "execution_count": 9,
   "metadata": {
    "collapsed": true
   },
   "outputs": [],
   "source": [
    "del google_data[10473]"
   ]
  },
  {
   "cell_type": "markdown",
   "metadata": {},
   "source": [
    "notice the change in size of android apps data set after deleting a row"
   ]
  },
  {
   "cell_type": "code",
   "execution_count": 10,
   "metadata": {
    "collapsed": false
   },
   "outputs": [
    {
     "data": {
      "text/plain": [
       "10840"
      ]
     },
     "execution_count": 10,
     "metadata": {},
     "output_type": "execute_result"
    }
   ],
   "source": [
    "len(google_data) - 1"
   ]
  },
  {
   "cell_type": "markdown",
   "metadata": {},
   "source": [
    "### duplicate entries\n",
    "Our data sets might contain some duplicate entries and we do not need to keep all of them. Lets see if there are any duplicate entries in android apps data set."
   ]
  },
  {
   "cell_type": "code",
   "execution_count": 12,
   "metadata": {
    "collapsed": false
   },
   "outputs": [
    {
     "name": "stdout",
     "output_type": "stream",
     "text": [
      "Number of unique apps :  9659\n",
      "Number of total entries :  10840\n"
     ]
    }
   ],
   "source": [
    "unique_apps = []\n",
    "for row in google_data[1:]:\n",
    "    if row[0] not in unique_apps:\n",
    "        unique_apps.append(row[0])\n",
    "print(\"Number of unique apps : \",len(unique_apps))\n",
    "print(\"Number of total entries : \", len(google_data) - 1)"
   ]
  },
  {
   "cell_type": "markdown",
   "metadata": {},
   "source": [
    "### We can see that number of unique apps is not equal to total no of entries, hence this data set contains duplicate entries. Now lets check same for IOS apps."
   ]
  },
  {
   "cell_type": "code",
   "execution_count": 13,
   "metadata": {
    "collapsed": false
   },
   "outputs": [
    {
     "name": "stdout",
     "output_type": "stream",
     "text": [
      "Number of unique apps :  7197\n",
      "Number of total entries :  7197\n"
     ]
    }
   ],
   "source": [
    "unique_apps = []\n",
    "for row in apple_data[1:]:\n",
    "    if row[0] not in unique_apps:\n",
    "        unique_apps.append(row[0])\n",
    "print(\"Number of unique apps : \",len(unique_apps))\n",
    "print(\"Number of total entries : \", len(apple_data) - 1)"
   ]
  },
  {
   "cell_type": "markdown",
   "metadata": {},
   "source": [
    "### IOS apps data set has no duplicate entries"
   ]
  },
  {
   "cell_type": "markdown",
   "metadata": {
    "collapsed": false
   },
   "source": [
    "## Removing duplicate entries from android apps data set\n",
    "### Amon the duplicates, we will keep the entry which has the most number of reviews assuming that it is the most recent entry \n",
    "\n"
   ]
  },
  {
   "cell_type": "code",
   "execution_count": 14,
   "metadata": {
    "collapsed": false
   },
   "outputs": [],
   "source": [
    "# returns the list of apps that has duplicate entries\n",
    "def getDuplicateApps(dataset):\n",
    "    unique_apps = []\n",
    "    duplicate_apps = []\n",
    "    for row in dataset[1:]:     \n",
    "        if row[0] in unique_apps and row[0] not in duplicate_apps:\n",
    "            duplicate_apps.append(row[0])\n",
    "        elif row[0] not in unique_apps:\n",
    "            unique_apps.append(row[0])\n",
    "\n",
    "    return duplicate_apps"
   ]
  },
  {
   "cell_type": "code",
   "execution_count": 15,
   "metadata": {
    "collapsed": true
   },
   "outputs": [],
   "source": [
    "# finds the indexes of the entries for a certain app\n",
    "def findIndex(dataset, app):\n",
    "    index_list = []\n",
    "    for index, row in enumerate(dataset):\n",
    "        if row[0] == app:\n",
    "            index_list.append(index)\n",
    "    return index_list\n"
   ]
  },
  {
   "cell_type": "code",
   "execution_count": 16,
   "metadata": {
    "collapsed": false
   },
   "outputs": [],
   "source": [
    "# deletes entries at certain indexes\n",
    "def deleteEntries(dataset, indexes):\n",
    "    # finds the max value of reviews among all entires for an app\n",
    "    max_reviews = max(int(dataset[ind][3]) for ind in indexes)  \n",
    "    # all of our duplicate entries might have same no of reviews\n",
    "    # so we need to make sure that we have kept one entry\n",
    "    # and deleted others\n",
    "    entry_found = False\n",
    "    # after deletion of entry, the indexes of other entries are\n",
    "    # decremented by one position, i is used to handle it\n",
    "    i = 0\n",
    "    for ind in indexes:\n",
    "        if int(dataset[ind][3]) < max_reviews:\n",
    "            #print(\"removing \",dataset[ind - i][0])\n",
    "            del dataset[ind - i]\n",
    "            #print(\"removed at index \",ind - i)\n",
    "            i = i + 1\n",
    "        elif int(dataset[ind - i][3]) == max_reviews and entry_found == False:\n",
    "            entry_found = True\n",
    "            #print(\"found \",dataset[ind - i][0])\n",
    "        else:\n",
    "            #print(\"removing \",dataset[ind - i][0])\n",
    "            del dataset[ind - i]\n",
    "            #print(\"removed at index \",ind - i)\n",
    "            i = i + 1\n",
    "    return dataset\n"
   ]
  },
  {
   "cell_type": "code",
   "execution_count": 17,
   "metadata": {
    "collapsed": false
   },
   "outputs": [],
   "source": [
    "# calling above methods to remove duplicate entries\n",
    "duplicate_apps_names = getDuplicateApps(google_data)\n",
    "for app in duplicate_apps_names:\n",
    "    indexes = findIndex(google_data, app)    \n",
    "    google_data = deleteEntries(google_data, indexes)\n",
    "\n"
   ]
  },
  {
   "cell_type": "code",
   "execution_count": 18,
   "metadata": {
    "collapsed": false
   },
   "outputs": [
    {
     "data": {
      "text/plain": [
       "9405"
      ]
     },
     "execution_count": 18,
     "metadata": {},
     "output_type": "execute_result"
    }
   ],
   "source": [
    "# number of entries in android apps data set after \n",
    "# removing duplicate entries\n",
    "len(google_data) - 1"
   ]
  },
  {
   "cell_type": "markdown",
   "metadata": {},
   "source": [
    "### removing non english apps\n",
    "since we are interested in analyzing only English apps so we must remove non english apps"
   ]
  },
  {
   "cell_type": "markdown",
   "metadata": {
    "collapsed": true
   },
   "source": [
    "ord(character) returns the unicode for that character.\n",
    "All numbers and alphabets fall in the range of 0 - 127 (inclusive). Letter like symbols have unicode : 8448 - 8527\n",
    "some english apps have emoticons or symbols in their titles and it is hard to put checks for such cases. so we are allowing up to three characters that fall outside the range of alphabhets and numbers, and is also not letter like symbol.\n",
    "    "
   ]
  },
  {
   "cell_type": "code",
   "execution_count": 19,
   "metadata": {
    "collapsed": true
   },
   "outputs": [],
   "source": [
    "# returns True if the given string is all english\n",
    "def is_english(app):\n",
    "    count =0\n",
    "    for ch in app:\n",
    "        if ord(ch) not in range(0,128) and ord(ch) not in range(8448, 8528):\n",
    "            count = count + 1\n",
    "            if(count == 4):\n",
    "                return False\n",
    "\n",
    "    return True\n",
    "    "
   ]
  },
  {
   "cell_type": "code",
   "execution_count": 20,
   "metadata": {
    "collapsed": true
   },
   "outputs": [],
   "source": [
    "# remove non english apps from given data set, app_name_index is the\n",
    "# index of app title in given data set\n",
    "def remove_nonEnglish(dataset, app_name_index):\n",
    "    i = 0\n",
    "    for index, row in enumerate(dataset[1:]):\n",
    "        if is_english(row[app_name_index]) == False:\n",
    "            #print(\"removing \", dataset[index + 1 - i][app_name_index])\n",
    "            del dataset[index + 1 - i]\n",
    "            i = i + 1 \n",
    "    return dataset"
   ]
  },
  {
   "cell_type": "code",
   "execution_count": 21,
   "metadata": {
    "collapsed": false
   },
   "outputs": [],
   "source": [
    "# function calls to remove nonenglish apps from both data sets\n",
    "google_data = remove_nonEnglish(google_data, 0)\n",
    "apple_data = remove_nonEnglish(apple_data,1)\n"
   ]
  },
  {
   "cell_type": "markdown",
   "metadata": {},
   "source": [
    "We also wants to analyze only free apps so we must remove apps that are not free"
   ]
  },
  {
   "cell_type": "code",
   "execution_count": 22,
   "metadata": {
    "collapsed": false
   },
   "outputs": [],
   "source": [
    "#  not free apps\n",
    "# ind is the index for column that indicates whether an app is free or not\n",
    "# free_rate is the value used for free apps in given data set\n",
    "def remove_notFree_apps(dataset, ind, free_rate):\n",
    "    # keeps count of deleted rows for index calculation\n",
    "    i = 0\n",
    "    for index,row in enumerate(dataset[1:]):\n",
    "        if row[ind] != free_rate :\n",
    "            del dataset[index+1-i]\n",
    "            i = i + 1\n",
    "    return dataset \n",
    "        \n"
   ]
  },
  {
   "cell_type": "code",
   "execution_count": 23,
   "metadata": {
    "collapsed": false
   },
   "outputs": [],
   "source": [
    "apple_data = remove_notFree_apps(apple_data,4, \"0.0\")\n",
    "google_data = remove_notFree_apps(google_data, 7, \"0\")"
   ]
  },
  {
   "cell_type": "markdown",
   "metadata": {},
   "source": [
    "Number of rows in both data sets after data cleaning"
   ]
  },
  {
   "cell_type": "code",
   "execution_count": 24,
   "metadata": {
    "collapsed": false
   },
   "outputs": [
    {
     "data": {
      "text/plain": [
       "3222"
      ]
     },
     "execution_count": 24,
     "metadata": {},
     "output_type": "execute_result"
    }
   ],
   "source": [
    "len(apple_data) - 1"
   ]
  },
  {
   "cell_type": "code",
   "execution_count": 25,
   "metadata": {
    "collapsed": false
   },
   "outputs": [
    {
     "data": {
      "text/plain": [
       "8613"
      ]
     },
     "execution_count": 25,
     "metadata": {},
     "output_type": "execute_result"
    }
   ],
   "source": [
    "len(google_data) -1"
   ]
  },
  {
   "cell_type": "markdown",
   "metadata": {},
   "source": [
    "## identifying most common genres in both app markets"
   ]
  },
  {
   "cell_type": "markdown",
   "metadata": {
    "collapsed": true
   },
   "source": [
    "### Our goal is to find apps that are profitable so we would look at different genres to identify the most profitable genre in both data sets\n"
   ]
  },
  {
   "cell_type": "markdown",
   "metadata": {},
   "source": [
    "#### For Android Apps"
   ]
  },
  {
   "cell_type": "code",
   "execution_count": 26,
   "metadata": {
    "collapsed": false
   },
   "outputs": [
    {
     "name": "stdout",
     "output_type": "stream",
     "text": [
      "{'TOOLS': 746, 'VIDEO_PLAYERS': 157, 'LIFESTYLE': 344, 'NEWS_AND_MAGAZINES': 245, 'PARENTING': 58, 'HOUSE_AND_HOME': 70, 'COMICS': 55, 'LIBRARIES_AND_DEMO': 82, 'AUTO_AND_VEHICLES': 82, 'WEATHER': 70, 'PERSONALIZATION': 292, 'SHOPPING': 193, 'SPORTS': 295, 'ENTERTAINMENT': 81, 'SOCIAL': 222, 'GAME': 813, 'MEDICAL': 310, 'ART_AND_DESIGN': 57, 'FOOD_AND_DRINK': 102, 'BEAUTY': 53, 'MAPS_AND_NAVIGATION': 124, 'COMMUNICATION': 258, 'DATING': 148, 'BUSINESS': 403, 'BOOKS_AND_REFERENCE': 184, 'PRODUCTIVITY': 340, 'PHOTOGRAPHY': 250, 'TRAVEL_AND_LOCAL': 199, 'EVENTS': 63, 'FINANCE': 320, 'FAMILY': 1632, 'HEALTH_AND_FITNESS': 264, 'EDUCATION': 101}\n"
     ]
    }
   ],
   "source": [
    "# an empty dictionary where key = genre and value = frequency\n",
    "genre_dict = {}\n",
    "for row in google_data[1:]:\n",
    "    if row[1] in genre_dict:\n",
    "        genre_dict[row[1]] += 1\n",
    "    else:\n",
    "        genre_dict[row[1]] = 1\n",
    "        \n",
    "print(genre_dict)"
   ]
  },
  {
   "cell_type": "markdown",
   "metadata": {},
   "source": [
    "This function sorts a dictionary and return it as a list"
   ]
  },
  {
   "cell_type": "code",
   "execution_count": 37,
   "metadata": {
    "collapsed": true
   },
   "outputs": [],
   "source": [
    "def display_dict(dict_):\n",
    "    return sorted(dict_.items(), key=lambda kv: kv[1])\n"
   ]
  },
  {
   "cell_type": "markdown",
   "metadata": {},
   "source": [
    "#### sorted frequencies"
   ]
  },
  {
   "cell_type": "code",
   "execution_count": 38,
   "metadata": {
    "collapsed": false
   },
   "outputs": [
    {
     "data": {
      "text/plain": [
       "[('BEAUTY', 53),\n",
       " ('COMICS', 55),\n",
       " ('ART_AND_DESIGN', 57),\n",
       " ('PARENTING', 58),\n",
       " ('EVENTS', 63),\n",
       " ('HOUSE_AND_HOME', 70),\n",
       " ('WEATHER', 70),\n",
       " ('ENTERTAINMENT', 81),\n",
       " ('LIBRARIES_AND_DEMO', 82),\n",
       " ('AUTO_AND_VEHICLES', 82),\n",
       " ('EDUCATION', 101),\n",
       " ('FOOD_AND_DRINK', 102),\n",
       " ('MAPS_AND_NAVIGATION', 124),\n",
       " ('DATING', 148),\n",
       " ('VIDEO_PLAYERS', 157),\n",
       " ('BOOKS_AND_REFERENCE', 184),\n",
       " ('SHOPPING', 193),\n",
       " ('TRAVEL_AND_LOCAL', 199),\n",
       " ('SOCIAL', 222),\n",
       " ('NEWS_AND_MAGAZINES', 245),\n",
       " ('PHOTOGRAPHY', 250),\n",
       " ('COMMUNICATION', 258),\n",
       " ('HEALTH_AND_FITNESS', 264),\n",
       " ('PERSONALIZATION', 292),\n",
       " ('SPORTS', 295),\n",
       " ('MEDICAL', 310),\n",
       " ('FINANCE', 320),\n",
       " ('PRODUCTIVITY', 340),\n",
       " ('LIFESTYLE', 344),\n",
       " ('BUSINESS', 403),\n",
       " ('TOOLS', 746),\n",
       " ('GAME', 813),\n",
       " ('FAMILY', 1632)]"
      ]
     },
     "execution_count": 38,
     "metadata": {},
     "output_type": "execute_result"
    }
   ],
   "source": [
    "display_dict(genre_dict)"
   ]
  },
  {
   "cell_type": "markdown",
   "metadata": {},
   "source": [
    "### This function returns the percentage proportion for each genre in given data set\n",
    "index indicates the index of column for genre"
   ]
  },
  {
   "cell_type": "code",
   "execution_count": 29,
   "metadata": {
    "collapsed": false
   },
   "outputs": [],
   "source": [
    "def freq_table(dataset, index):\n",
    "    freq_dict = {}\n",
    "    for row in dataset[1:]:\n",
    "        if row[index] in freq_dict:\n",
    "            freq_dict[row[index]] += 1\n",
    "        else:\n",
    "            freq_dict[row[index]] = 1\n",
    "    freq_dict={k:(v/len(dataset) * 100) for k, v in freq_dict.items()}\n",
    "\n",
    "    return freq_dict"
   ]
  },
  {
   "cell_type": "code",
   "execution_count": 30,
   "metadata": {
    "collapsed": false
   },
   "outputs": [
    {
     "data": {
      "text/plain": [
       "[('Catalogs', 0.12410797393732546),\n",
       " ('Navigation', 0.18616196090598822),\n",
       " ('Medical', 0.18616196090598822),\n",
       " ('Book', 0.43437790878063914),\n",
       " ('Business', 0.5274588892336333),\n",
       " ('Reference', 0.5584858827179646),\n",
       " ('Food & Drink', 0.8067018305926157),\n",
       " ('Weather', 0.8687558175612783),\n",
       " ('Finance', 1.1169717654359292),\n",
       " ('Travel', 1.2410797393732547),\n",
       " ('News', 1.3341607198262488),\n",
       " ('Lifestyle', 1.5823766677008997),\n",
       " ('Productivity', 1.7375116351225566),\n",
       " ('Health & Fitness', 2.016754576481539),\n",
       " ('Music', 2.04778156996587),\n",
       " ('Sports', 2.140862550418864),\n",
       " ('Utilities', 2.513186472230841),\n",
       " ('Shopping', 2.6062674526838348),\n",
       " ('Social Networking', 3.288861309339125),\n",
       " ('Education', 3.661185231151101),\n",
       " ('Photo & Video', 4.964318957493019),\n",
       " ('Entertainment', 7.880856345020168),\n",
       " ('Games', 58.144585789636984)]"
      ]
     },
     "execution_count": 30,
     "metadata": {},
     "output_type": "execute_result"
    }
   ],
   "source": [
    "apple_genre_freq = freq_table(apple_data, -5)\n",
    "sorted(apple_genre_freq.items(), key=lambda kv: kv[1])"
   ]
  },
  {
   "cell_type": "markdown",
   "metadata": {
    "collapsed": false
   },
   "source": [
    "we need a list of genres for traversal"
   ]
  },
  {
   "cell_type": "code",
   "execution_count": 31,
   "metadata": {
    "collapsed": false
   },
   "outputs": [
    {
     "data": {
      "text/plain": [
       "['Music',\n",
       " 'Navigation',\n",
       " 'Weather',\n",
       " 'Utilities',\n",
       " 'Sports',\n",
       " 'News',\n",
       " 'Travel',\n",
       " 'Medical',\n",
       " 'Business',\n",
       " 'Food & Drink',\n",
       " 'Productivity',\n",
       " 'Social Networking',\n",
       " 'Book',\n",
       " 'Lifestyle',\n",
       " 'Entertainment',\n",
       " 'Finance',\n",
       " 'Health & Fitness',\n",
       " 'Photo & Video',\n",
       " 'Shopping',\n",
       " 'Reference',\n",
       " 'Education',\n",
       " 'Catalogs',\n",
       " 'Games']"
      ]
     },
     "execution_count": 31,
     "metadata": {},
     "output_type": "execute_result"
    }
   ],
   "source": [
    "apple_unique_genres = list(apple_genre_freq.keys())\n",
    "apple_unique_genres"
   ]
  },
  {
   "cell_type": "markdown",
   "metadata": {},
   "source": [
    "### genre_ratings, len_genre and avg_ratings are lists to hold values for each unique genre where the index for each genre is same as its index in apple_unique_genres\n",
    "traversing through the data set, we increment the count for genre in len_genre at its index. We also add the rating to its index in genre_ratings"
   ]
  },
  {
   "cell_type": "code",
   "execution_count": 32,
   "metadata": {
    "collapsed": false
   },
   "outputs": [],
   "source": [
    "genre_ratings = [0] * len(apple_unique_genres)\n",
    "len_genre = [0] * len(apple_unique_genres)\n",
    "avg_ratings = [0] * len(apple_unique_genres)\n",
    "\n",
    "for row in apple_data[1:]:\n",
    "    len_genre[apple_unique_genres.index(row[-5])] += 1\n",
    "    genre_ratings[apple_unique_genres.index(row[-5])] += float(row[7])\n",
    "    \n",
    "avg_ratings = [a / b for a,b in zip(genre_ratings,len_genre)]\n",
    "   "
   ]
  },
  {
   "cell_type": "markdown",
   "metadata": {},
   "source": [
    "prints average ratig for each app"
   ]
  },
  {
   "cell_type": "code",
   "execution_count": 39,
   "metadata": {
    "collapsed": false
   },
   "outputs": [
    {
     "data": {
      "text/plain": [
       "[('Medical', 3.0),\n",
       " ('Sports', 3.0652173913043477),\n",
       " ('Book', 3.0714285714285716),\n",
       " ('News', 3.244186046511628),\n",
       " ('Finance', 3.375),\n",
       " ('Lifestyle', 3.411764705882353),\n",
       " ('Weather', 3.482142857142857),\n",
       " ('Travel', 3.4875),\n",
       " ('Utilities', 3.5308641975308643),\n",
       " ('Entertainment', 3.5393700787401574),\n",
       " ('Social Networking', 3.5943396226415096),\n",
       " ('Food & Drink', 3.6346153846153846),\n",
       " ('Education', 3.635593220338983),\n",
       " ('Reference', 3.6666666666666665),\n",
       " ('Health & Fitness', 3.769230769230769),\n",
       " ('Navigation', 3.8333333333333335),\n",
       " ('Photo & Video', 3.903125),\n",
       " ('Music', 3.946969696969697),\n",
       " ('Shopping', 3.9702380952380953),\n",
       " ('Business', 3.9705882352941178),\n",
       " ('Productivity', 4.0),\n",
       " ('Games', 4.037086446104589),\n",
       " ('Catalogs', 4.125)]"
      ]
     },
     "execution_count": 39,
     "metadata": {},
     "output_type": "execute_result"
    }
   ],
   "source": [
    "apple_sorted_dict = display_dict(dict(zip(apple_unique_genres,avg_ratings)))\n",
    "apple_sorted_dict"
   ]
  },
  {
   "cell_type": "markdown",
   "metadata": {},
   "source": [
    "### Repeating same for android apps data set"
   ]
  },
  {
   "cell_type": "code",
   "execution_count": 35,
   "metadata": {
    "collapsed": false
   },
   "outputs": [],
   "source": [
    "google_freq = freq_table(google_data, 1)\n",
    "google_unique_categories = list(google_freq.keys())"
   ]
  },
  {
   "cell_type": "markdown",
   "metadata": {},
   "source": [
    "Profitable apps can be categorized on the basis of number of installs. since this information was missing in IOS apps data set so we used user ratings for that purpose. For android apps data set, we will use numberof installs.\n",
    "No of installs are enclosed in paranthesis and has a + at the end so we must replace them before converting it to float."
   ]
  },
  {
   "cell_type": "code",
   "execution_count": 40,
   "metadata": {
    "collapsed": false
   },
   "outputs": [
    {
     "data": {
      "text/plain": [
       "[('MEDICAL', 118007.56129032258),\n",
       " ('EVENTS', 253542.22222222222),\n",
       " ('BEAUTY', 513151.88679245283),\n",
       " ('LIBRARIES_AND_DEMO', 524339.1463414634),\n",
       " ('PARENTING', 542603.6206896552),\n",
       " ('DATING', 594694.3040540541),\n",
       " ('AUTO_AND_VEHICLES', 647317.8170731707),\n",
       " ('COMICS', 817657.2727272727),\n",
       " ('FINANCE', 853634.7875),\n",
       " ('HOUSE_AND_HOME', 1288606.5857142857),\n",
       " ('LIFESTYLE', 1414198.921511628),\n",
       " ('BUSINESS', 1577920.8188585609),\n",
       " ('EDUCATION', 1671782.1782178218),\n",
       " ('FOOD_AND_DRINK', 1741556.3823529412),\n",
       " ('ART_AND_DESIGN', 1986335.0877192982),\n",
       " ('FAMILY', 2608698.339460784),\n",
       " ('TRAVEL_AND_LOCAL', 3335196.4120603013),\n",
       " ('SPORTS', 3441120.959322034),\n",
       " ('NEWS_AND_MAGAZINES', 3539576.5714285714),\n",
       " ('HEALTH_AND_FITNESS', 3877077.2803030303),\n",
       " ('MAPS_AND_NAVIGATION', 4056941.7741935486),\n",
       " ('WEATHER', 5075550.285714285),\n",
       " ('PERSONALIZATION', 5168616.05479452),\n",
       " ('SHOPPING', 5851495.2590673575),\n",
       " ('BOOKS_AND_REFERENCE', 7801001.4130434785),\n",
       " ('GAME', 9344242.86592866),\n",
       " ('TOOLS', 10576465.782841822),\n",
       " ('ENTERTAINMENT', 10721728.395061728),\n",
       " ('PHOTOGRAPHY', 12137075.26),\n",
       " ('PRODUCTIVITY', 14651850.923529413),\n",
       " ('SOCIAL', 16945323.882882882),\n",
       " ('COMMUNICATION', 18220566.670542635),\n",
       " ('VIDEO_PLAYERS', 21221221.146496814)]"
      ]
     },
     "execution_count": 40,
     "metadata": {},
     "output_type": "execute_result"
    }
   ],
   "source": [
    "category_installs = [0] * len(google_unique_categories)\n",
    "len_category = [0] * len(google_unique_categories)\n",
    "avg_installs = [0] * len(google_unique_categories)\n",
    "\n",
    "for row in google_data[1:]:\n",
    "    len_category[google_unique_categories.index(row[1])] += 1\n",
    "    category_installs[google_unique_categories.index(row[1])] += float(row[5].replace(\"+\",\"\").replace(\",\",\"\"))\n",
    "    \n",
    "avg_installs = [a/b for a,b in zip(category_installs, len_category)]\n",
    "google_sorted_dict = display_dict(dict(zip(google_unique_categories, avg_installs)))\n",
    "google_sorted_dict"
   ]
  },
  {
   "cell_type": "code",
   "execution_count": 44,
   "metadata": {
    "collapsed": false
   },
   "outputs": [
    {
     "data": {
      "text/plain": [
       "[('Shopping', 3.9702380952380953),\n",
       " ('Business', 3.9705882352941178),\n",
       " ('Productivity', 4.0),\n",
       " ('Games', 4.037086446104589),\n",
       " ('Catalogs', 4.125)]"
      ]
     },
     "execution_count": 44,
     "metadata": {},
     "output_type": "execute_result"
    }
   ],
   "source": [
    "apple_sorted_dict[-5:]"
   ]
  },
  {
   "cell_type": "code",
   "execution_count": 45,
   "metadata": {
    "collapsed": false
   },
   "outputs": [
    {
     "data": {
      "text/plain": [
       "[('PHOTOGRAPHY', 12137075.26),\n",
       " ('PRODUCTIVITY', 14651850.923529413),\n",
       " ('SOCIAL', 16945323.882882882),\n",
       " ('COMMUNICATION', 18220566.670542635),\n",
       " ('VIDEO_PLAYERS', 21221221.146496814)]"
      ]
     },
     "execution_count": 45,
     "metadata": {},
     "output_type": "execute_result"
    }
   ],
   "source": [
    "google_sorted_dict[-5:]"
   ]
  },
  {
   "cell_type": "markdown",
   "metadata": {},
   "source": [
    "### we can see that games are popular on both platforms. We can further explore the genres by looking at the apps in these genres which is quite simple"
   ]
  },
  {
   "cell_type": "code",
   "execution_count": null,
   "metadata": {
    "collapsed": true
   },
   "outputs": [],
   "source": []
  }
 ],
 "metadata": {
  "kernelspec": {
   "display_name": "Python 3",
   "language": "python",
   "name": "python3"
  },
  "language_info": {
   "codemirror_mode": {
    "name": "ipython",
    "version": 3
   },
   "file_extension": ".py",
   "mimetype": "text/x-python",
   "name": "python",
   "nbconvert_exporter": "python",
   "pygments_lexer": "ipython3",
   "version": "3.4.3"
  }
 },
 "nbformat": 4,
 "nbformat_minor": 2
}
